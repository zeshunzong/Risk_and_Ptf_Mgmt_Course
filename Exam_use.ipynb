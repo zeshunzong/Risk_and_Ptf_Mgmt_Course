{
 "cells": [
  {
   "cell_type": "code",
   "execution_count": 37,
   "metadata": {},
   "outputs": [],
   "source": [
    "import math\n",
    "import pandas as pd\n",
    "import numpy as np\n",
    "from numpy import linalg as la\n",
    "from scipy import optimize as opt\n",
    "import matplotlib.pyplot as plt\n",
    "import scipy"
   ]
  },
  {
   "cell_type": "markdown",
   "metadata": {},
   "source": [
    "# Calculate bond price / present value\n",
    "we know that if yield is $r$, then the bond price is \n",
    "$$\\textbf{price} = \\frac{c}{r} + (1-\\frac{c}{r})(1 + \\frac{r}{k})^{-kN},$$ assuming face value 1."
   ]
  },
  {
   "cell_type": "code",
   "execution_count": 2,
   "metadata": {},
   "outputs": [],
   "source": [
    "def get_price(c, k, r, N):\n",
    "    # assuming face value is 100\n",
    "    return (c/r + (1-c/r)*(1+r/k)**(-k*N))*100"
   ]
  },
  {
   "cell_type": "code",
   "execution_count": 161,
   "metadata": {},
   "outputs": [
    {
     "data": {
      "text/plain": [
       "102.25849999999998"
      ]
     },
     "execution_count": 161,
     "metadata": {},
     "output_type": "execute_result"
    }
   ],
   "source": [
    "get_price(0.0263, 2, 0.0237493837204351, 10)"
   ]
  },
  {
   "cell_type": "code",
   "execution_count": null,
   "metadata": {},
   "outputs": [],
   "source": []
  },
  {
   "cell_type": "code",
   "execution_count": null,
   "metadata": {},
   "outputs": [],
   "source": []
  },
  {
   "cell_type": "code",
   "execution_count": 140,
   "metadata": {},
   "outputs": [
    {
     "data": {
      "text/plain": [
       "array([0.02863715])"
      ]
     },
     "execution_count": 140,
     "metadata": {},
     "output_type": "execute_result"
    }
   ],
   "source": [
    "def obj_func(r):\n",
    "    p0 = get_price(0.0525, 2, r, 10)\n",
    "    return p0 * (1 + r/2)**(25/(181))-120.86\n",
    "\n",
    "opt.fsolve(obj_func, 0.03)"
   ]
  },
  {
   "cell_type": "markdown",
   "metadata": {},
   "source": [
    "# Calculate yield\n"
   ]
  },
  {
   "cell_type": "code",
   "execution_count": 157,
   "metadata": {},
   "outputs": [
    {
     "data": {
      "text/plain": [
       "0.023749383720435117"
      ]
     },
     "execution_count": 157,
     "metadata": {},
     "output_type": "execute_result"
    }
   ],
   "source": [
    "def price_func(r, args):\n",
    "    # define a function whose input is the yield r\n",
    "    # the root to the function is the correct yield s.t. the bond is correctly priced\n",
    "    c, k, N, price = args\n",
    "    return (c/r + (1-c/r)*(1+r/k)**(-k*N))*100 - price\n",
    "\n",
    "# we use a solver to solve for the yield that correctly prices each bond\n",
    "opt.fsolve(price_func, 0.03, args = [0.0263, 2, 10, 102.2585])[0]"
   ]
  },
  {
   "cell_type": "code",
   "execution_count": null,
   "metadata": {},
   "outputs": [],
   "source": []
  },
  {
   "cell_type": "code",
   "execution_count": null,
   "metadata": {},
   "outputs": [],
   "source": []
  },
  {
   "cell_type": "markdown",
   "metadata": {},
   "source": []
  },
  {
   "cell_type": "code",
   "execution_count": 4,
   "metadata": {},
   "outputs": [],
   "source": []
  },
  {
   "cell_type": "code",
   "execution_count": null,
   "metadata": {},
   "outputs": [],
   "source": []
  },
  {
   "cell_type": "code",
   "execution_count": null,
   "metadata": {},
   "outputs": [],
   "source": []
  },
  {
   "cell_type": "markdown",
   "metadata": {},
   "source": [
    "# Calculate Macaulay Duration\n",
    "\n",
    "The formula is, when $k=1,$ given by \n",
    "$$\\frac{\\sum_{k=1}^N k\\cdot c_k (1+r)^{-k}}{\\sum_{i=1}^{N} c_i (1+r)^{-i}}.$$"
   ]
  },
  {
   "cell_type": "code",
   "execution_count": 5,
   "metadata": {},
   "outputs": [],
   "source": [
    "# function to calculate MacD for a bond\n",
    "def get_MacD(N, r, k, c_i):\n",
    "    # N is the number of years\n",
    "    # r is yield\n",
    "    # k is the number of payments per year\n",
    "    # c_i is an array with k*N elements, payment at each period\n",
    "    \n",
    "    # the periods are given by np.linspace(1/k, N, kN)\n",
    "    \n",
    "    periods = np.linspace(1/k, N, int(np.round(k*N)))\n",
    "    # a total of kN payments\n",
    "    \n",
    "    numer = 0\n",
    "    denom = 0\n",
    "\n",
    "    for i in range(len(periods)):\n",
    "        numer += periods[i] * c_i[i] * (1+r/k)**(-(i+1))\n",
    "        denom += c_i[i] * (1+r/k)**(-(i+1))\n",
    "\n",
    "    return numer/denom\n",
    "\n",
    "\n",
    "def generate_payments(c, k, N):\n",
    "    # this function returns an array which is the payments for a bond till maturity\n",
    "    # c is coupon rate per year\n",
    "    # k is periods of compounding per year\n",
    "    # N is years to maturity\n",
    "    # assuming face value $100\n",
    "    \n",
    "    payments = np.ones(int(np.round(k*N)))*(c/k)*100\n",
    "    payments[-1] += 100\n",
    "    return payments\n",
    "\n"
   ]
  },
  {
   "cell_type": "code",
   "execution_count": 162,
   "metadata": {},
   "outputs": [
    {
     "data": {
      "text/plain": [
       "8.873602522407797"
      ]
     },
     "execution_count": 162,
     "metadata": {},
     "output_type": "execute_result"
    }
   ],
   "source": [
    "get_MacD(10, 0.0237493837204351, 2, generate_payments(0.0263, 2, 10))"
   ]
  },
  {
   "cell_type": "code",
   "execution_count": null,
   "metadata": {},
   "outputs": [],
   "source": []
  },
  {
   "cell_type": "code",
   "execution_count": null,
   "metadata": {},
   "outputs": [],
   "source": []
  },
  {
   "cell_type": "markdown",
   "metadata": {},
   "source": [
    "# Calculate ModD\n",
    "\n",
    "$$ \\textbf{ModD} = \\frac{\\textbf{MacD}}{1+\\frac{r}{k}},$$\n",
    "where $r$ is annualized yield, $k$ is periods of compounding per year.\n",
    "\n",
    "$$\\left|\\textbf{ModD}\\cdot \\Delta r\\right| = \\frac{\\frac{\\partial \\textbf{Price}}{\\partial r} \\Delta r}{\\textbf{Price}} = \\frac{\\Delta \\textbf{Price}}{\\textbf{Price}}$$\n",
    "注意方向是反的，yield上升price下降。"
   ]
  },
  {
   "cell_type": "code",
   "execution_count": 166,
   "metadata": {},
   "outputs": [],
   "source": [
    "def get_ModD(N, r, k, c):\n",
    "    macD = get_MacD(N, r, k, generate_payments(c, k, N))\n",
    "    return macD/(1+r/k)\n"
   ]
  },
  {
   "cell_type": "code",
   "execution_count": 171,
   "metadata": {},
   "outputs": [
    {
     "data": {
      "text/plain": [
       "8.76998033012713"
      ]
     },
     "execution_count": 171,
     "metadata": {},
     "output_type": "execute_result"
    }
   ],
   "source": [
    "get_ModD(10, 0.0237, 2, 0.0263)"
   ]
  },
  {
   "cell_type": "code",
   "execution_count": 165,
   "metadata": {},
   "outputs": [
    {
     "name": "stderr",
     "output_type": "stream",
     "text": [
      "/Users/Zeshun/anaconda3/lib/python3.6/site-packages/scipy/optimize/minpack.py:163: RuntimeWarning: The number of calls to function has reached maxfev = 400.\n",
      "  warnings.warn(msg, RuntimeWarning)\n"
     ]
    },
    {
     "data": {
      "text/plain": [
       "array([1.76023682e+85])"
      ]
     },
     "execution_count": 165,
     "metadata": {},
     "output_type": "execute_result"
    }
   ],
   "source": [
    "def objective_function(a):\n",
    "    return 1/(a*10**6)-np.exp(-625000*a)\n",
    "\n",
    "opt.fsolve(objective_function, 100)"
   ]
  },
  {
   "cell_type": "code",
   "execution_count": null,
   "metadata": {},
   "outputs": [],
   "source": []
  },
  {
   "cell_type": "markdown",
   "metadata": {},
   "source": [
    "# Calculate optimal portfolio weights\n",
    "\n",
    "this max the ratio of avg return to stdev"
   ]
  },
  {
   "cell_type": "code",
   "execution_count": 9,
   "metadata": {},
   "outputs": [],
   "source": [
    "def get_weights(cov_mat, mu, sum_to = 1):\n",
    "    weights = la.inv(cov_mat)@mu\n",
    "    tot = np.sum(weights)\n",
    "    for i in range(len(weights)):\n",
    "        weights[i] = weights[i]/tot*sum_to\n",
    "    return weights\n",
    "\n"
   ]
  },
  {
   "cell_type": "code",
   "execution_count": 147,
   "metadata": {},
   "outputs": [
    {
     "data": {
      "text/plain": [
       "array([0.10149214, 0.89850786])"
      ]
     },
     "execution_count": 147,
     "metadata": {},
     "output_type": "execute_result"
    }
   ],
   "source": [
    "C = np.array([[0.043**2, 0.00004], [0.00004, 0.0112**2]])\n",
    "mu = np.array([0.009, 0.0047])\n",
    "get_weights(C, mu)"
   ]
  },
  {
   "cell_type": "code",
   "execution_count": 28,
   "metadata": {},
   "outputs": [
    {
     "data": {
      "text/plain": [
       "0.011296503644085177"
      ]
     },
     "execution_count": 28,
     "metadata": {},
     "output_type": "execute_result"
    }
   ],
   "source": [
    "math.sqrt(0.00012761099458082967)"
   ]
  },
  {
   "cell_type": "code",
   "execution_count": null,
   "metadata": {},
   "outputs": [],
   "source": []
  },
  {
   "cell_type": "code",
   "execution_count": null,
   "metadata": {},
   "outputs": [],
   "source": []
  },
  {
   "cell_type": "code",
   "execution_count": null,
   "metadata": {},
   "outputs": [],
   "source": []
  },
  {
   "cell_type": "markdown",
   "metadata": {},
   "source": [
    "# Discrete probability, N choose k\n",
    "scipy.special.comb(100,2)"
   ]
  },
  {
   "cell_type": "code",
   "execution_count": 42,
   "metadata": {},
   "outputs": [
    {
     "data": {
      "text/plain": [
       "4950.0"
      ]
     },
     "execution_count": 42,
     "metadata": {},
     "output_type": "execute_result"
    }
   ],
   "source": [
    "scipy.special.comb(100,2)"
   ]
  },
  {
   "cell_type": "code",
   "execution_count": 136,
   "metadata": {},
   "outputs": [
    {
     "data": {
      "text/plain": [
       "-0.04900825361731065"
      ]
     },
     "execution_count": 136,
     "metadata": {},
     "output_type": "execute_result"
    }
   ],
   "source": [
    "t = 0\n",
    "for i in range(0, 6):\n",
    "    t += scipy.special.comb(100,i)*(1/38)**i * (37/38)**(100-i)\n",
    "    \n",
    "t-1"
   ]
  },
  {
   "cell_type": "code",
   "execution_count": null,
   "metadata": {},
   "outputs": [],
   "source": []
  },
  {
   "cell_type": "markdown",
   "metadata": {},
   "source": [
    "# Binary Kelly, $\\max \\mathbb{E}\\ln(R)$\n",
    "\n",
    "赌1块钱，赢了拿U+1块（净赚U块），输了赔D块钱，默认为1.\n",
    "initial wealth $W$, what is the optimal percentage of wealth to bet?\n",
    "\n",
    "$$x = \\frac{pU-(1-p)D}{UD}$$\n",
    "\n",
    "\n",
    "# Bet $x,$ wealth is either $(1+Ux)W$ or $(1-Dx)W$"
   ]
  },
  {
   "cell_type": "code",
   "execution_count": 44,
   "metadata": {},
   "outputs": [
    {
     "data": {
      "text/plain": [
       "-0.0015037593984962422"
      ]
     },
     "execution_count": 44,
     "metadata": {},
     "output_type": "execute_result"
    }
   ],
   "source": [
    "def binary_kelly(U, D, p):\n",
    "    numer = p*U-(1-p)*D\n",
    "    denom = U*D\n",
    "    return numer / denom\n",
    "\n",
    "\n",
    "binary_kelly(35, 1, 1/38)"
   ]
  },
  {
   "cell_type": "code",
   "execution_count": 134,
   "metadata": {},
   "outputs": [
    {
     "data": {
      "text/plain": [
       "array([5.4752661])"
      ]
     },
     "execution_count": 134,
     "metadata": {},
     "output_type": "execute_result"
    }
   ],
   "source": [
    "def objfunc(x):\n",
    "    return (1.35**x)*(0.99**(100-x))-2\n",
    "opt.fsolve(objfunc,2)"
   ]
  },
  {
   "cell_type": "code",
   "execution_count": null,
   "metadata": {},
   "outputs": [],
   "source": []
  },
  {
   "cell_type": "code",
   "execution_count": null,
   "metadata": {},
   "outputs": [],
   "source": []
  },
  {
   "cell_type": "markdown",
   "metadata": {},
   "source": [
    "# Binary option pricing\n",
    "price a call option with strike K\n",
    "\n",
    "stock price S can go up to U, go down to D."
   ]
  },
  {
   "cell_type": "code",
   "execution_count": 81,
   "metadata": {},
   "outputs": [],
   "source": [
    "def get_option_price(S, U, D, K, r=0):\n",
    "    # suppose x shares of stock, y cash\n",
    "    # the linear system is given by\n",
    "    # U*x + (1+r)y = U-K\n",
    "    # D*x + (1+r)y = max{0, D-K}\n",
    "    mat = np.array([[U, 1+r], [D, 1+r]])\n",
    "    RHS = np.array([U-K, max(0, D-K)])\n",
    "    repli_ptf = la.inv(mat)@RHS\n",
    "    return S*repli_ptf[0] + repli_ptf[1]\n",
    "\n",
    "def get_replicate_weights(U, D, K, r=0):\n",
    "    # return x and y, where x is the number of share of stock, y cash position\n",
    "    mat = np.array([[U, 1+r], [D, 1+r]])\n",
    "    RHS = np.array([U-K, max(0, D-K)])\n",
    "    repli_ptf = la.inv(mat)@RHS\n",
    "    return repli_ptf\n",
    "\n",
    "def get_replicate_value(stock, up, down, up_pay, down_pay, r = 0):\n",
    "    mat = np.array([[up, 1+r], [down, 1+r]])\n",
    "    RHS = np.array([up_pay, down_pay])\n",
    "    repli_ptf = la.inv(mat)@RHS\n",
    "    return stock*repli_ptf[0] + repli_ptf[1]"
   ]
  },
  {
   "cell_type": "code",
   "execution_count": 65,
   "metadata": {},
   "outputs": [
    {
     "data": {
      "text/plain": [
       "-35.18297872340426"
      ]
     },
     "execution_count": 65,
     "metadata": {},
     "output_type": "execute_result"
    }
   ],
   "source": [
    "get_option_price(50, 26.4, 7.6, 42)"
   ]
  },
  {
   "cell_type": "code",
   "execution_count": 62,
   "metadata": {},
   "outputs": [
    {
     "data": {
      "text/plain": [
       "array([  0.6, -18. ])"
      ]
     },
     "execution_count": 62,
     "metadata": {},
     "output_type": "execute_result"
    }
   ],
   "source": [
    "get_replicate_weights(80, 30, 50)"
   ]
  },
  {
   "cell_type": "code",
   "execution_count": 141,
   "metadata": {},
   "outputs": [
    {
     "data": {
      "text/plain": [
       "20.000000000000004"
      ]
     },
     "execution_count": 141,
     "metadata": {},
     "output_type": "execute_result"
    }
   ],
   "source": [
    "get_replicate_value(60, 75, 0, 25, 0)"
   ]
  },
  {
   "cell_type": "markdown",
   "metadata": {},
   "source": [
    "$$\\Delta K * \\delta = \\Delta P$$"
   ]
  },
  {
   "cell_type": "markdown",
   "metadata": {},
   "source": [
    "# Put-Call parity\n",
    "\n",
    "$$C(S,t) - P(S,t) = S - K \\cdot e^{r(T-t)}$$"
   ]
  },
  {
   "cell_type": "code",
   "execution_count": null,
   "metadata": {},
   "outputs": [],
   "source": []
  },
  {
   "cell_type": "markdown",
   "metadata": {},
   "source": [
    "# Black Scholes Call option price\n",
    "\n",
    "$$ C = S_t N(d_1) - K e^{-rt} N(d_2),$$\n",
    "where $$d_1 = \\frac{\\ln \\frac{S_t}{K} + (r + \\frac{\\sigma^2}{2})t}{\\sigma \\sqrt{t}}\n",
    ", d_2 = d_1 - \\sigma \\sqrt{t}.$$\n",
    "\n",
    "K strike price, St current stock price, t time to maturity, r interest rate"
   ]
  },
  {
   "cell_type": "markdown",
   "metadata": {},
   "source": [
    "delta, 对S求导，N(d1)\n",
    "\n",
    "theta, 对t求导\n",
    "\n",
    "vega，对sigma求导\n",
    "\n",
    "rho，对r求导\n",
    "\n",
    "gamma，对S的二阶导"
   ]
  },
  {
   "cell_type": "code",
   "execution_count": 102,
   "metadata": {},
   "outputs": [],
   "source": [
    "from scipy.stats import norm as normal\n",
    "def bs_call(args):\n",
    "    St, K, t, r, sigma = args\n",
    "    d1_numer = np.log(St/K) + (r + 0.5 * sigma**2)*t\n",
    "    d1_denom = sigma * np.sqrt(t)\n",
    "    d1 = d1_numer / d1_denom\n",
    "    d2 = d1 - sigma * np.sqrt(t)\n",
    "    return St* normal.cdf(d1) - K * np.exp(-r*t)* normal.cdf(d2)\n",
    "\n",
    "\n",
    "def bs_put(args):\n",
    "    ## by put call parity\n",
    "    St, K, t, r, sigma = args\n",
    "    call_price = bs_call(args)\n",
    "    return call_price - St + K * np.exp(r*t)"
   ]
  },
  {
   "cell_type": "code",
   "execution_count": null,
   "metadata": {},
   "outputs": [],
   "source": []
  },
  {
   "cell_type": "markdown",
   "metadata": {},
   "source": [
    "# level payments 等额本息还款\n",
    "\n",
    "设借了A，每月还X，月利率beta，共m个月，则\n",
    "$$X = \\frac{\\beta A}{1 - (1+\\beta)^{-m}}$$"
   ]
  },
  {
   "cell_type": "code",
   "execution_count": 114,
   "metadata": {},
   "outputs": [],
   "source": [
    "def get_monthly_payments(total_borrow, annual_interest_rate, year):\n",
    "    m = year * 12\n",
    "    beta = annual_interest_rate / 12\n",
    "    A = total_borrow\n",
    "    return (beta * A) / (1 - (1+beta)**(-m))"
   ]
  },
  {
   "cell_type": "code",
   "execution_count": 115,
   "metadata": {},
   "outputs": [
    {
     "data": {
      "text/plain": [
       "4296.737659189084"
      ]
     },
     "execution_count": 115,
     "metadata": {},
     "output_type": "execute_result"
    }
   ],
   "source": [
    "get_monthly_payments(900000, 0.04, 30)"
   ]
  },
  {
   "cell_type": "code",
   "execution_count": null,
   "metadata": {},
   "outputs": [],
   "source": []
  },
  {
   "cell_type": "code",
   "execution_count": null,
   "metadata": {},
   "outputs": [],
   "source": []
  },
  {
   "cell_type": "code",
   "execution_count": null,
   "metadata": {},
   "outputs": [],
   "source": []
  },
  {
   "cell_type": "code",
   "execution_count": 172,
   "metadata": {},
   "outputs": [],
   "source": [
    "mat = np.array([[104.5, 91.72, 123.86, 102.2],\\\n",
    "                [0.0520, 0.0350, 0.0525, 0.0263],\\\n",
    "               [0.0462, 0.0456, 0.0248, 0.0237],\\\n",
    "               [7.797, 8.253, 8.058, 8.52]])"
   ]
  },
  {
   "cell_type": "code",
   "execution_count": 173,
   "metadata": {},
   "outputs": [
    {
     "data": {
      "text/plain": [
       "array([ 5.72452387, -5.10784113, -3.52720518,  3.98393421])"
      ]
     },
     "execution_count": 173,
     "metadata": {},
     "output_type": "execute_result"
    }
   ],
   "source": [
    "la.inv(mat)@np.array([100,0.0385, 0.0385, 8])"
   ]
  },
  {
   "cell_type": "code",
   "execution_count": null,
   "metadata": {},
   "outputs": [],
   "source": []
  },
  {
   "cell_type": "code",
   "execution_count": null,
   "metadata": {},
   "outputs": [],
   "source": []
  }
 ],
 "metadata": {
  "kernelspec": {
   "display_name": "Python 3",
   "language": "python",
   "name": "python3"
  },
  "language_info": {
   "codemirror_mode": {
    "name": "ipython",
    "version": 3
   },
   "file_extension": ".py",
   "mimetype": "text/x-python",
   "name": "python",
   "nbconvert_exporter": "python",
   "pygments_lexer": "ipython3",
   "version": "3.6.4"
  }
 },
 "nbformat": 4,
 "nbformat_minor": 2
}
